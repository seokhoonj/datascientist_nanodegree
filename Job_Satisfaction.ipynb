{
 "cells": [
  {
   "cell_type": "markdown",
   "metadata": {},
   "source": [
    "# Job Satisfaction\n",
    "\n",
    "In this notebook, you will be exploring job satisfaction according to the survey result"
   ]
  },
  {
   "cell_type": "code",
   "execution_count": 2,
   "metadata": {},
   "outputs": [],
   "source": [
    "import pandas as pd\n",
    "import numpy as np\n",
    "import matplotlib.pyplot as plt\n",
    "%matplotlib inline"
   ]
  },
  {
   "cell_type": "code",
   "execution_count": 3,
   "metadata": {},
   "outputs": [],
   "source": [
    "df = pd.read_csv('./survey_results_public.csv')"
   ]
  },
  {
   "cell_type": "code",
   "execution_count": 4,
   "metadata": {},
   "outputs": [
    {
     "data": {
      "text/plain": [
       "0.20149722542142184"
      ]
     },
     "execution_count": 4,
     "metadata": {},
     "output_type": "execute_result"
    }
   ],
   "source": [
    "df['JobSatisfaction'].isnull().mean()"
   ]
  },
  {
   "cell_type": "code",
   "execution_count": 6,
   "metadata": {},
   "outputs": [
    {
     "data": {
      "text/plain": [
       "EmploymentStatus\n",
       "Employed full-time                                      6.980608\n",
       "Employed part-time                                      6.846154\n",
       "Independent contractor, freelancer, or self-employed    7.231985\n",
       "Name: JobSatisfaction, dtype: float64"
      ]
     },
     "execution_count": 6,
     "metadata": {},
     "output_type": "execute_result"
    }
   ],
   "source": [
    "df.groupby(['EmploymentStatus']).mean()['JobSatisfaction'].dropna()"
   ]
  },
  {
   "cell_type": "code",
   "execution_count": 7,
   "metadata": {},
   "outputs": [
    {
     "data": {
      "text/plain": [
       "CompanySize\n",
       "10,000 or more employees    6.793617\n",
       "5,000 to 9,999 employees    6.832155\n",
       "1,000 to 4,999 employees    6.908506\n",
       "20 to 99 employees          6.997039\n",
       "Fewer than 10 employees     7.025719\n",
       "100 to 499 employees        7.029324\n",
       "500 to 999 employees        7.029967\n",
       "10 to 19 employees          7.035739\n",
       "I don't know                7.054622\n",
       "I prefer not to answer      7.284946\n",
       "Name: JobSatisfaction, dtype: float64"
      ]
     },
     "execution_count": 7,
     "metadata": {},
     "output_type": "execute_result"
    }
   ],
   "source": [
    "df.groupby(['CompanySize']).mean()['JobSatisfaction'].sort_values()"
   ]
  },
  {
   "cell_type": "code",
   "execution_count": 8,
   "metadata": {},
   "outputs": [
    {
     "data": {
      "text/plain": [
       "ProgramHobby\n",
       "No                                           6.874806\n",
       "Yes, I program as a hobby                    6.927150\n",
       "Yes, I contribute to open source projects    7.158649\n",
       "Yes, both                                    7.189316\n",
       "Name: JobSatisfaction, dtype: float64"
      ]
     },
     "execution_count": 8,
     "metadata": {},
     "output_type": "execute_result"
    }
   ],
   "source": [
    "df.groupby(['ProgramHobby']).mean()['JobSatisfaction'].sort_values().dropna()"
   ]
  },
  {
   "cell_type": "code",
   "execution_count": 11,
   "metadata": {},
   "outputs": [
    {
     "data": {
      "text/plain": [
       "ProgramHobby\n",
       "No                                           6.874806\n",
       "Yes, I program as a hobby                    6.927150\n",
       "Yes, I contribute to open source projects    7.158649\n",
       "Yes, both                                    7.189316\n",
       "Name: JobSatisfaction, dtype: float64"
      ]
     },
     "execution_count": 11,
     "metadata": {},
     "output_type": "execute_result"
    }
   ],
   "source": [
    "df.groupby(['ProgramHobby']).mean()['JobSatisfaction'].sort_values().dropna()"
   ]
  },
  {
   "cell_type": "code",
   "execution_count": 12,
   "metadata": {},
   "outputs": [
    {
     "data": {
      "text/plain": [
       "HomeRemote\n",
       "Never                                                      6.697127\n",
       "It's complicated                                           6.942053\n",
       "More than half, but not all, the time                      6.973684\n",
       "A few days each month                                      7.096694\n",
       "About half the time                                        7.125737\n",
       "Less than half the time, but at least one day each week    7.143786\n",
       "All or almost all the time (I'm full-time remote)          7.405421\n",
       "Name: JobSatisfaction, dtype: float64"
      ]
     },
     "execution_count": 12,
     "metadata": {},
     "output_type": "execute_result"
    }
   ],
   "source": [
    "df.groupby(['HomeRemote']).mean()['JobSatisfaction'].sort_values().dropna()"
   ]
  },
  {
   "cell_type": "code",
   "execution_count": 13,
   "metadata": {},
   "outputs": [
    {
     "data": {
      "text/plain": [
       "FormalEducation\n",
       "Bachelor's degree                                                    6.900293\n",
       "Primary/elementary school                                            6.946237\n",
       "Master's degree                                                      6.977356\n",
       "I never completed any formal education                               7.000000\n",
       "Professional degree                                                  7.075893\n",
       "Some college/university study without earning a bachelor's degree    7.151268\n",
       "I prefer not to answer                                               7.211679\n",
       "Secondary school                                                     7.219512\n",
       "Doctoral degree                                                      7.438492\n",
       "Name: JobSatisfaction, dtype: float64"
      ]
     },
     "execution_count": 13,
     "metadata": {},
     "output_type": "execute_result"
    }
   ],
   "source": [
    "res = df.groupby(['FormalEducation']).mean()['JobSatisfaction'].sort_values().dropna()\n",
    "res"
   ]
  }
 ],
 "metadata": {
  "kernelspec": {
   "display_name": "Python 3",
   "language": "python",
   "name": "python3"
  },
  "language_info": {
   "codemirror_mode": {
    "name": "ipython",
    "version": 3
   },
   "file_extension": ".py",
   "mimetype": "text/x-python",
   "name": "python",
   "nbconvert_exporter": "python",
   "pygments_lexer": "ipython3",
   "version": "3.7.4"
  }
 },
 "nbformat": 4,
 "nbformat_minor": 2
}
